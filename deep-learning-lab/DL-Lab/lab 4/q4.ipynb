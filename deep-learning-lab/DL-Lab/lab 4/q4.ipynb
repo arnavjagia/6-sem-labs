{
 "cells": [
  {
   "cell_type": "code",
   "execution_count": 20,
   "metadata": {},
   "outputs": [],
   "source": [
    "import torch\n",
    "from torch import nn, optim\n",
    "from matplotlib import pyplot as plt\n",
    "from torchvision import datasets, transforms\n",
    "from torch.utils.data import Dataset, DataLoader\n",
    "from sklearn.metrics import confusion_matrix"
   ]
  },
  {
   "cell_type": "code",
   "execution_count": 21,
   "metadata": {},
   "outputs": [],
   "source": [
    "# Compose - This function is used to chain together multiple transformations that will be applied to the data.\n",
    "# ToTensor - Converts the input image (which is in PIL format) to a PyTorch tensor.\n",
    "# This also automatically scales the pixel values to the range [0, 1] by dividing by 255.\n",
    "# Normalize - This normalizes the tensor by subtracting the mean and dividing by the standard deviation.\n",
    "# Mean: (0.5,) - each channel (MNIST images are grayscale, so only one channel) will be centered around 0.5.\n",
    "# Std: (0.5,) - each channel will be scaled by a standard deviation of 0.5.\n",
    "transforms = transforms.Compose([transforms.ToTensor(), transforms.Normalize((0.5, ), (0.5, ))])\n",
    "\n",
    "# '.' means that the dataset will be stored in the current directory\n",
    "# train = True meaning it will load 60000 images\n",
    "# download = tells pytorch to download the dataset if it isn't already present in the specified directory\n",
    "train = datasets.MNIST('.', train= True, download= True, transform= transforms)\n",
    "test = datasets.MNIST('.', train= False, download= True, transform= transforms)"
   ]
  },
  {
   "cell_type": "code",
   "execution_count": 22,
   "metadata": {},
   "outputs": [],
   "source": [
    "train_loader = DataLoader(train, batch_size= 64, shuffle= True)\n",
    "test_loader = DataLoader(test, batch_size= 64, shuffle= True)"
   ]
  },
  {
   "cell_type": "code",
   "execution_count": 23,
   "metadata": {},
   "outputs": [],
   "source": [
    "class Network(nn.Module):\n",
    "    def __init__(self):\n",
    "        super().__init__()\n",
    "        self.fc1 = nn.Linear(28 * 28, 128)\n",
    "        self.ac1 = nn.ReLU()\n",
    "        self.fc2 = nn.Linear(128, 64)\n",
    "        self.ac2 = nn.ReLU()\n",
    "        # not adding softmax layer as the cost function used will first apply softmax and then evaluate\n",
    "        self.fc3 = nn.Linear(64, 10)\n",
    "    \n",
    "    def forward(self, x):\n",
    "        x = x.reshape(-1, 28 * 28)\n",
    "        ans = self.fc1(x)\n",
    "        ans = self.ac1(ans)\n",
    "        ans = self.fc2(ans)\n",
    "        ans = self.ac2(ans)\n",
    "        ans = self.fc3(ans)\n",
    "        return ans"
   ]
  },
  {
   "cell_type": "code",
   "execution_count": 24,
   "metadata": {},
   "outputs": [],
   "source": [
    "model = Network()\n",
    "# CrossEntropy loss automatically applies softmax to the input\n",
    "# so no need to apply softmax at the output to get the predicted class\n",
    "criterion = nn.CrossEntropyLoss()\n",
    "optimizer = optim.SGD(model.parameters(), lr= 0.001)"
   ]
  },
  {
   "cell_type": "code",
   "execution_count": 25,
   "metadata": {},
   "outputs": [
    {
     "name": "stdout",
     "output_type": "stream",
     "text": [
      "epoch [1 / 10], loss: 2.2217008798107156\n",
      "epoch [2 / 10], loss: 1.9124657115194081\n",
      "epoch [3 / 10], loss: 1.3894374986955607\n",
      "epoch [4 / 10], loss: 0.963588167863614\n",
      "epoch [5 / 10], loss: 0.7438113994753437\n",
      "epoch [6 / 10], loss: 0.6274233063591569\n",
      "epoch [7 / 10], loss: 0.5563453254160851\n",
      "epoch [8 / 10], loss: 0.5073951357272642\n",
      "epoch [9 / 10], loss: 0.4709611423869631\n",
      "epoch [10 / 10], loss: 0.4428183328844845\n"
     ]
    }
   ],
   "source": [
    "loss_list = []\n",
    "for epoch in range(10):\n",
    "    # call train inside the epoch loop; this will help in case you want to evaluate something\n",
    "    # and change the model a bit mid training.\n",
    "    model.train()\n",
    "    running_loss = 0.0\n",
    "    for input, target in train_loader:\n",
    "        optimizer.zero_grad()\n",
    "        output = model(input)\n",
    "        loss = criterion(output, target)\n",
    "        loss.backward()\n",
    "        optimizer.step()\n",
    "        running_loss += loss.item()\n",
    "    print(f'epoch [{epoch + 1} / 10], loss: {running_loss / len(train_loader)}')\n"
   ]
  },
  {
   "cell_type": "code",
   "execution_count": null,
   "metadata": {},
   "outputs": [
    {
     "name": "stdout",
     "output_type": "stream",
     "text": [
      "[[ 946    0    5    1    0   16    8    1    3    0]\n",
      " [   0 1094    2    6    1    2    4    1   25    0]\n",
      " [  14   14  882   23   27    4   22   10   33    3]\n",
      " [   4    3   26  883    1   44    2   19   24    4]\n",
      " [   2    5    4    0  888    2   16    2    9   54]\n",
      " [  16    3   11   63   15  709   22   10   37    6]\n",
      " [  18    3   14    1   16   22  881    0    3    0]\n",
      " [   6   24   26    2    8    1    0  917    7   37]\n",
      " [  12    8   14   35   11   31   17    5  819   22]\n",
      " [  13    8    5   11   71   13    1   22   13  852]]\n",
      "Number of learnable parameters: 109386\n"
     ]
    }
   ],
   "source": [
    "model.eval()\n",
    "all_preds, all_labels = [], []\n",
    "with torch.no_grad():\n",
    "    for input, target in test_loader:\n",
    "        output = model(input)\n",
    "        # note the max function\n",
    "        # max return max value and the index of the value in the specified dimension\n",
    "        val, index = torch.max(output, 1)\n",
    "        # the index and target contain a list of values, so we use extend instead of append. It will unpack and add all the elements to the lists.\n",
    "        all_preds.extend(index.numpy())\n",
    "        all_labels.extend(target.numpy())\n",
    "cm = confusion_matrix(all_labels, all_preds)\n",
    "print(cm)\n",
    "# model.parameters gives the parameters iterable for each layer\n",
    "# since we only need to find the parameters that are used in the computational graph, we use the if condition\n",
    "# p.numel() gives number of parameters\n",
    "num_params = sum(p.numel() for p in model.parameters() if p.requires_grad)\n",
    "print(f'Number of learnable parameters: {num_params}')"
   ]
  },
  {
   "cell_type": "code",
   "execution_count": null,
   "metadata": {},
   "outputs": [],
   "source": []
  }
 ],
 "metadata": {
  "kernelspec": {
   "display_name": "venv",
   "language": "python",
   "name": "python3"
  },
  "language_info": {
   "codemirror_mode": {
    "name": "ipython",
    "version": 3
   },
   "file_extension": ".py",
   "mimetype": "text/x-python",
   "name": "python",
   "nbconvert_exporter": "python",
   "pygments_lexer": "ipython3",
   "version": "3.12.3"
  }
 },
 "nbformat": 4,
 "nbformat_minor": 2
}
