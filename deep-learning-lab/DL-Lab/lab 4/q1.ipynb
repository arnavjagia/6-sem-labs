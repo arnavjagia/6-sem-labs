{
 "cells": [
  {
   "cell_type": "code",
   "execution_count": 3,
   "metadata": {},
   "outputs": [],
   "source": [
    "import torch\n",
    "from matplotlib import pyplot as plt\n",
    "from torch import nn\n",
    "from torch import optim\n",
    "from torch.utils.data import Dataset, DataLoader"
   ]
  },
  {
   "cell_type": "code",
   "execution_count": 4,
   "metadata": {},
   "outputs": [],
   "source": [
    "class XORDataset(Dataset):\n",
    "    def __init__(self, X1, X2, y):\n",
    "        super().__init__()\n",
    "        self.X1 = X1.reshape(-1, 1)\n",
    "        self.X2 = X2.reshape(-1, 1)\n",
    "        self.y = y.reshape(-1, 1)\n",
    "    \n",
    "    def __len__(self):\n",
    "        return self.X1.shape[0]\n",
    "    \n",
    "    def __getitem__(self, index):\n",
    "        return self.X1[index], self.X2[index], self.y[index]"
   ]
  },
  {
   "cell_type": "code",
   "execution_count": 26,
   "metadata": {},
   "outputs": [],
   "source": [
    "class XOR(nn.Module):\n",
    "    def __init__(self):\n",
    "        super().__init__()\n",
    "        self.linear1 = nn.Linear(2, 2, bias= True)\n",
    "        self.activate1 = nn.Sigmoid()\n",
    "        self.linear2 = nn.Linear(2, 1, bias= True)\n",
    "        self.activate2 = nn.Sigmoid()\n",
    "    \n",
    "    def forward(self, x1, x2):\n",
    "        x = torch.cat((x1, x2), dim= 1)\n",
    "        z1 = self.linear1(x)\n",
    "        a1 = self.activate1(z1)\n",
    "        z2 = self.linear2(a1)\n",
    "        a2 = self.activate2(z2)\n",
    "        return a2"
   ]
  },
  {
   "cell_type": "code",
   "execution_count": 27,
   "metadata": {},
   "outputs": [],
   "source": [
    "X1 = torch.tensor([0, 0, 1, 1], dtype= torch.float32)\n",
    "X2 = torch.tensor([0, 1, 0, 1], dtype= torch.float32)\n",
    "y = torch.tensor([0, 1, 1, 0], dtype= torch.float32)"
   ]
  },
  {
   "cell_type": "code",
   "execution_count": 28,
   "metadata": {},
   "outputs": [],
   "source": [
    "model = XOR()\n",
    "dataset = XORDataset(X1=X1, X2=X2, y=y)\n",
    "dataloader = DataLoader(dataset=dataset, batch_size=dataset.__len__(), shuffle= True)\n",
    "criterion = torch.nn.BCELoss()\n",
    "optimizer = torch.optim.SGD(model.parameters(), lr= 0.001)"
   ]
  },
  {
   "cell_type": "code",
   "execution_count": 29,
   "metadata": {},
   "outputs": [
    {
     "name": "stdout",
     "output_type": "stream",
     "text": [
      "loss = 0.7064884901046753\n",
      "loss = 0.7064782381057739\n",
      "loss = 0.706467866897583\n",
      "loss = 0.7064574956893921\n",
      "loss = 0.7064472436904907\n",
      "loss = 0.7064369320869446\n",
      "loss = 0.7064266204833984\n",
      "loss = 0.7064163088798523\n",
      "loss = 0.7064060568809509\n",
      "loss = 0.7063958048820496\n",
      "loss = 0.7063855528831482\n",
      "loss = 0.706375241279602\n",
      "loss = 0.7063649892807007\n",
      "loss = 0.7063547372817993\n",
      "loss = 0.7063445448875427\n",
      "loss = 0.7063342928886414\n",
      "loss = 0.7063241600990295\n",
      "loss = 0.706313967704773\n",
      "loss = 0.7063037157058716\n",
      "loss = 0.706293523311615\n",
      "loss = 0.7062833309173584\n",
      "loss = 0.7062731385231018\n",
      "loss = 0.7062629461288452\n",
      "loss = 0.7062528133392334\n",
      "loss = 0.7062426805496216\n",
      "loss = 0.706232488155365\n",
      "loss = 0.7062223553657532\n",
      "loss = 0.7062121629714966\n",
      "loss = 0.7062021493911743\n",
      "loss = 0.7061919569969177\n",
      "loss = 0.7061819434165955\n",
      "loss = 0.7061718106269836\n",
      "loss = 0.7061617374420166\n",
      "loss = 0.7061516642570496\n",
      "loss = 0.7061415910720825\n",
      "loss = 0.7061314582824707\n",
      "loss = 0.7061214447021484\n",
      "loss = 0.7061114311218262\n",
      "loss = 0.7061013579368591\n",
      "loss = 0.7060912847518921\n",
      "loss = 0.7060812711715698\n",
      "loss = 0.7060712575912476\n",
      "loss = 0.7060612440109253\n",
      "loss = 0.706051230430603\n",
      "loss = 0.7060412168502808\n",
      "loss = 0.706031322479248\n",
      "loss = 0.7060213088989258\n",
      "loss = 0.7060112953186035\n",
      "loss = 0.7060014009475708\n",
      "loss = 0.7059913873672485\n",
      "loss = 0.7059814929962158\n",
      "loss = 0.7059714794158936\n",
      "loss = 0.7059615850448608\n",
      "loss = 0.7059516906738281\n",
      "loss = 0.7059417366981506\n",
      "loss = 0.7059317827224731\n",
      "loss = 0.7059219479560852\n",
      "loss = 0.7059120535850525\n",
      "loss = 0.7059021592140198\n",
      "loss = 0.7058922648429871\n",
      "loss = 0.7058823704719543\n",
      "loss = 0.7058725357055664\n",
      "loss = 0.7058627009391785\n",
      "loss = 0.7058528065681458\n",
      "loss = 0.7058429718017578\n",
      "loss = 0.7058331370353699\n",
      "loss = 0.7058233022689819\n",
      "loss = 0.7058135271072388\n",
      "loss = 0.7058037519454956\n",
      "loss = 0.7057939171791077\n",
      "loss = 0.7057840824127197\n",
      "loss = 0.7057743668556213\n",
      "loss = 0.7057645320892334\n",
      "loss = 0.705754816532135\n",
      "loss = 0.7057449817657471\n",
      "loss = 0.7057352066040039\n",
      "loss = 0.7057254910469055\n",
      "loss = 0.7057157754898071\n",
      "loss = 0.705706000328064\n",
      "loss = 0.7056962847709656\n",
      "loss = 0.7056865692138672\n",
      "loss = 0.7056769132614136\n",
      "loss = 0.7056671380996704\n",
      "loss = 0.7056574821472168\n",
      "loss = 0.7056478261947632\n",
      "loss = 0.7056381106376648\n",
      "loss = 0.7056284546852112\n",
      "loss = 0.7056187391281128\n",
      "loss = 0.7056090831756592\n",
      "loss = 0.7055994272232056\n",
      "loss = 0.7055898308753967\n",
      "loss = 0.7055801153182983\n",
      "loss = 0.7055705785751343\n",
      "loss = 0.7055609226226807\n",
      "loss = 0.7055513262748718\n",
      "loss = 0.705541729927063\n",
      "loss = 0.7055320739746094\n",
      "loss = 0.7055225372314453\n",
      "loss = 0.7055130004882812\n",
      "loss = 0.7055034041404724\n"
     ]
    }
   ],
   "source": [
    "loss_list = []\n",
    "model.train()\n",
    "for epoch in range(100):\n",
    "    loss = 0.0\n",
    "    for input1, input2, target in dataloader:\n",
    "        optimizer.zero_grad()\n",
    "        output = model(input1, input2)\n",
    "        loss = criterion(output, target)\n",
    "        loss.backward()\n",
    "        optimizer.step()\n",
    "        print(f'loss = {loss.item()}')\n",
    "        a = loss\n",
    "        loss_list.append(a.detach().numpy())"
   ]
  },
  {
   "cell_type": "code",
   "execution_count": 30,
   "metadata": {},
   "outputs": [
    {
     "data": {
      "text/plain": [
       "[]"
      ]
     },
     "execution_count": 30,
     "metadata": {},
     "output_type": "execute_result"
    },
    {
     "data": {
      "image/png": "[encoded data removed]",
      "text/plain": [
       "<Figure size 640x480 with 1 Axes>"
      ]
     },
     "metadata": {},
     "output_type": "display_data"
    }
   ],
   "source": [
    "plt.plot(loss_list)\n",
    "plt.plot()"
   ]
  },
  {
   "cell_type": "code",
   "execution_count": 44,
   "metadata": {},
   "outputs": [
    {
     "name": "stdout",
     "output_type": "stream",
     "text": [
      "torch.Size([2, 1])\n",
      "tensor([[ 0.3486],\n",
      "        [-0.0462]], grad_fn=<AddBackward0>)\n",
      "torch.Size([2, 1])\n",
      "tensor([[0.4352]], grad_fn=<SigmoidBackward0>)\n"
     ]
    }
   ],
   "source": [
    "x = torch.Tensor([0, 0]).unsqueeze(dim = 1)\n",
    "print(x.shape)\n",
    "# the weight matrix we get is (out_features, in_features)\n",
    "# the bias we get is (outfeatures), we need to convert it to (outfeatures, 1)\n",
    "w1, b1 = model.linear1.weight, model.linear1.bias.unsqueeze(dim = 1)\n",
    "# print(w1, b1)\n",
    "l1 = torch.matmul(w1, x) + b1\n",
    "print(l1)\n",
    "a1 = torch.sigmoid(l1)\n",
    "print(a1.shape)\n",
    "# note we can also use reshape\n",
    "w2, b2 = model.linear2.weight, model.linear2.bias.reshape(-1, 1)\n",
    "l2 = torch.matmul(w2, a1) + b2\n",
    "a2 = torch.sigmoid(l2)\n",
    "print(a2)"
   ]
  },
  {
   "cell_type": "code",
   "execution_count": null,
   "metadata": {},
   "outputs": [],
   "source": []
  }
 ],
 "metadata": {
  "kernelspec": {
   "display_name": "venv",
   "language": "python",
   "name": "python3"
  },
  "language_info": {
   "codemirror_mode": {
    "name": "ipython",
    "version": 3
   },
   "file_extension": ".py",
   "mimetype": "text/x-python",
   "name": "python",
   "nbconvert_exporter": "python",
   "pygments_lexer": "ipython3",
   "version": "3.12.3"
  }
 },
 "nbformat": 4,
 "nbformat_minor": 2
}
