{
 "cells": [
  {
   "cell_type": "code",
   "execution_count": 8,
   "metadata": {},
   "outputs": [],
   "source": [
    "import torch\n",
    "from torch import nn\n",
    "from torchvision import datasets, models, transforms\n",
    "from torch.utils.data import DataLoader"
   ]
  },
  {
   "cell_type": "code",
   "execution_count": 9,
   "metadata": {},
   "outputs": [],
   "source": [
    "transforms = transforms.Compose([transforms.Resize((224, 224)), transforms.ToTensor(), transforms.Normalize(mean=[0.485, 0.456, 0.456], std=[0.229, 0.224, 0.225])])\n",
    "train = datasets.ImageFolder('./cats_and_dogs_filtered/train', transform= transforms)\n",
    "test = datasets.ImageFolder('./cats_and_dogs_filtered/validation', transform= transforms)\n",
    "train_loader = DataLoader(train, batch_size= 128, shuffle= True)\n",
    "test_loader = DataLoader(test, batch_size= 128)"
   ]
  },
  {
   "cell_type": "code",
   "execution_count": 10,
   "metadata": {},
   "outputs": [
    {
     "data": {
      "text/plain": [
       "CNNWithoutDropout(\n",
       "  (net): Sequential(\n",
       "    (0): Conv2d(3, 32, kernel_size=(3, 3), stride=(1, 1), padding=(1, 1))\n",
       "    (1): Conv2d(32, 64, kernel_size=(3, 3), stride=(1, 1), padding=(1, 1))\n",
       "    (2): Conv2d(64, 128, kernel_size=(3, 3), stride=(1, 1), padding=(1, 1))\n",
       "    (3): MaxPool2d(kernel_size=2, stride=2, padding=0, dilation=1, ceil_mode=False)\n",
       "    (4): MaxPool2d(kernel_size=2, stride=2, padding=0, dilation=1, ceil_mode=False)\n",
       "    (5): MaxPool2d(kernel_size=2, stride=2, padding=0, dilation=1, ceil_mode=False)\n",
       "  )\n",
       "  (classify_head): Sequential(\n",
       "    (0): Flatten(start_dim=1, end_dim=-1)\n",
       "    (1): Linear(in_features=100352, out_features=512, bias=True)\n",
       "    (2): Linear(in_features=512, out_features=2, bias=True)\n",
       "  )\n",
       ")"
      ]
     },
     "execution_count": 10,
     "metadata": {},
     "output_type": "execute_result"
    }
   ],
   "source": [
    "class CNNWithoutDropout(nn.Module):\n",
    "    def __init__(self):\n",
    "        super().__init__()\n",
    "        self.net = nn.Sequential(nn.Conv2d(3, 32, kernel_size=3, padding=1),\n",
    "                                 nn.Conv2d(32, 64, kernel_size=3, padding=1),\n",
    "                                 nn.Conv2d(64, 128, kernel_size=3, padding=1),\n",
    "                                 nn.MaxPool2d(kernel_size=2, stride=2),\n",
    "                                 nn.MaxPool2d(kernel_size=2, stride=2),\n",
    "                                 nn.MaxPool2d(kernel_size=2, stride=2))\n",
    "        self.classify_head = nn.Sequential(nn.Flatten(),\n",
    "                                           nn.Linear(128 * 28 * 28, 512),\n",
    "                                           nn.Linear(512, 2))\n",
    "\n",
    "    def forward(self, x):\n",
    "        return self.classify_head(self.net(x))\n",
    "\n",
    "\n",
    "model_withoutdropout = CNNWithoutDropout()\n",
    "model_withoutdropout.to('cuda')"
   ]
  },
  {
   "cell_type": "code",
   "execution_count": 11,
   "metadata": {},
   "outputs": [
    {
     "data": {
      "text/plain": [
       "CNNWithDropout(\n",
       "  (net): Sequential(\n",
       "    (0): Conv2d(3, 32, kernel_size=(3, 3), stride=(1, 1), padding=(1, 1))\n",
       "    (1): Conv2d(32, 64, kernel_size=(3, 3), stride=(1, 1), padding=(1, 1))\n",
       "    (2): Conv2d(64, 128, kernel_size=(3, 3), stride=(1, 1), padding=(1, 1))\n",
       "    (3): MaxPool2d(kernel_size=2, stride=2, padding=0, dilation=1, ceil_mode=False)\n",
       "    (4): MaxPool2d(kernel_size=2, stride=2, padding=0, dilation=1, ceil_mode=False)\n",
       "    (5): MaxPool2d(kernel_size=2, stride=2, padding=0, dilation=1, ceil_mode=False)\n",
       "  )\n",
       "  (classify_head): Sequential(\n",
       "    (0): Flatten(start_dim=1, end_dim=-1)\n",
       "    (1): Linear(in_features=100352, out_features=512, bias=True)\n",
       "    (2): Dropout(p=0.5, inplace=False)\n",
       "    (3): Linear(in_features=512, out_features=2, bias=True)\n",
       "  )\n",
       ")"
      ]
     },
     "execution_count": 11,
     "metadata": {},
     "output_type": "execute_result"
    }
   ],
   "source": [
    "class CNNWithDropout(nn.Module):\n",
    "    def __init__(self):\n",
    "        super().__init__()\n",
    "        self.net = nn.Sequential(nn.Conv2d(3, 32, kernel_size=(3, 3), stride= (1, 1), padding=(1, 1)),\n",
    "                                 nn.Conv2d(32, 64, kernel_size= (3, 3), stride=(1, 1), padding=(1, 1)),\n",
    "                                 nn.Conv2d(64, 128, kernel_size=(3, 3), stride=(1, 1), padding=(1, 1)),\n",
    "                                 nn.MaxPool2d(kernel_size= 2, stride= 2, padding= 0),\n",
    "                                 nn.MaxPool2d(kernel_size=2, stride=2),\n",
    "                                 nn.MaxPool2d(kernel_size=2, stride=2))\n",
    "        self.classify_head = nn.Sequential(nn.Flatten(),\n",
    "                                           nn.Linear(128 * 28 * 28, 512, bias= True),\n",
    "                                           nn.Dropout(0.5),\n",
    "                                           nn.Linear(512, 2, bias= True))\n",
    "    def forward(self, x):\n",
    "        return self.classify_head(self.net(x))\n",
    "\n",
    "model_withdropout = CNNWithDropout()\n",
    "model_withdropout.to('cuda')"
   ]
  },
  {
   "cell_type": "code",
   "execution_count": 12,
   "metadata": {},
   "outputs": [],
   "source": [
    "criterion = nn.CrossEntropyLoss()\n",
    "optimizer = torch.optim.SGD(model_withoutdropout.parameters(), lr= 0.001)"
   ]
  },
  {
   "cell_type": "code",
   "execution_count": 13,
   "metadata": {},
   "outputs": [
    {
     "name": "stdout",
     "output_type": "stream",
     "text": [
      "Epoch - 0, loss - 11.006946623325348\n",
      "Epoch - 1, loss - 10.827944278717041\n",
      "Epoch - 2, loss - 10.702032625675201\n",
      "Epoch - 3, loss - 10.578912734985352\n",
      "Epoch - 4, loss - 10.471415519714355\n",
      "Epoch - 5, loss - 10.378242015838623\n",
      "Epoch - 6, loss - 10.302975118160248\n",
      "Epoch - 7, loss - 10.204736590385437\n",
      "Epoch - 8, loss - 10.15225213766098\n",
      "Epoch - 9, loss - 10.080402672290802\n"
     ]
    }
   ],
   "source": [
    "for epoch in range(10):\n",
    "    model_withoutdropout.train()\n",
    "    running_loss = 0.0\n",
    "    for input, target in train_loader:\n",
    "        input, target = input.to('cuda'), target.to('cuda')\n",
    "        optimizer.zero_grad()\n",
    "        output = model_withoutdropout(input)\n",
    "        loss = criterion(output, target)\n",
    "        loss.backward()\n",
    "        optimizer.step()\n",
    "        running_loss += loss.item()\n",
    "    print(f'Epoch - {epoch}, loss - {running_loss}')"
   ]
  },
  {
   "cell_type": "code",
   "execution_count": 14,
   "metadata": {},
   "outputs": [
    {
     "name": "stdout",
     "output_type": "stream",
     "text": [
      "Epoch - 0, loss = 11.081916689872742\n",
      "Epoch - 1, loss = 10.918175637722015\n",
      "Epoch - 2, loss = 10.751204192638397\n",
      "Epoch - 3, loss = 10.638721764087677\n",
      "Epoch - 4, loss = 10.469416379928589\n",
      "Epoch - 5, loss = 10.422377407550812\n",
      "Epoch - 6, loss = 10.335522949695587\n",
      "Epoch - 7, loss = 10.254121720790863\n",
      "Epoch - 8, loss = 10.15770173072815\n",
      "Epoch - 9, loss = 10.054412245750427\n"
     ]
    }
   ],
   "source": [
    "optimizer = torch.optim.SGD(model_withdropout.parameters(), lr= 0.001)\n",
    "for epoch in range(10):\n",
    "    model_withdropout.train()\n",
    "    running_loss = 0.0\n",
    "    for input, target in train_loader:\n",
    "        input, target = input.to('cuda'), target.to('cuda')\n",
    "        optimizer.zero_grad()\n",
    "        output = model_withdropout(input)\n",
    "        loss = criterion(output, target)\n",
    "        loss.backward()\n",
    "        optimizer.step()\n",
    "        running_loss += loss.item()\n",
    "    print(f'Epoch - {epoch}, loss = {running_loss}')"
   ]
  },
  {
   "cell_type": "code",
   "execution_count": 15,
   "metadata": {},
   "outputs": [
    {
     "name": "stdout",
     "output_type": "stream",
     "text": [
      "0.635\n",
      "0.627\n"
     ]
    }
   ],
   "source": [
    "all_preds_withdropout, all_labels_withdropout = [], []\n",
    "all_preds_withoutdropout, all_labels_withoutdropout = [], []\n",
    "with torch.no_grad():\n",
    "    for input, target in test_loader:\n",
    "        input, target = input.to('cuda'), target.to('cuda')\n",
    "        o1 = model_withdropout(input)\n",
    "        o2 = model_withoutdropout(input)\n",
    "        val, ind1 = torch.max(o1, dim = 1)\n",
    "        val, ind2 = torch.max(o2, dim = 1)\n",
    "        all_preds_withdropout.extend(ind1.to('cpu'))\n",
    "        all_preds_withoutdropout.extend(ind2.to('cpu'))\n",
    "        all_labels_withdropout.extend(target.to('cpu'))\n",
    "        all_labels_withoutdropout.extend(target.to('cpu'))\n",
    "from sklearn.metrics import accuracy_score\n",
    "print(accuracy_score(all_preds_withdropout, all_labels_withdropout))\n",
    "print(accuracy_score(all_preds_withoutdropout, all_labels_withoutdropout))"
   ]
  },
  {
   "cell_type": "code",
   "execution_count": null,
   "metadata": {},
   "outputs": [],
   "source": []
  }
 ],
 "metadata": {
  "kernelspec": {
   "display_name": "venv",
   "language": "python",
   "name": "python3"
  },
  "language_info": {
   "codemirror_mode": {
    "name": "ipython",
    "version": 3
   },
   "file_extension": ".py",
   "mimetype": "text/x-python",
   "name": "python",
   "nbconvert_exporter": "python",
   "pygments_lexer": "ipython3",
   "version": "3.12.9"
  }
 },
 "nbformat": 4,
 "nbformat_minor": 2
}
