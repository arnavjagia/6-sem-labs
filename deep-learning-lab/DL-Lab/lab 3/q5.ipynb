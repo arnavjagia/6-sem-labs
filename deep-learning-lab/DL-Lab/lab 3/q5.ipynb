{
 "cells": [
  {
   "cell_type": "code",
   "execution_count": 1,
   "metadata": {},
   "outputs": [],
   "source": [
    "import torch\n",
    "from torch.utils.data import Dataset, DataLoader\n",
    "import torch.nn as nn\n",
    "from matplotlib import pyplot as plt"
   ]
  },
  {
   "cell_type": "code",
   "execution_count": 2,
   "metadata": {},
   "outputs": [],
   "source": [
    "X = torch.tensor([12.4, 14.3, 14.5, 14.9, 16.1, 16.9, 16.5, 15.4, 17.0, 17.9, 18.8, 20.3, 22.4, 19.4, 15.5, 16.7, 17.3, 18.4, 19.2, 17.4, 19.5, 21.2])\n",
    "y = torch.tensor([11.2, 12.5, 12.7, 13.1, 14.1, 14.8, 14.4, 13.4, 14.9, 15.6, 16.4, 17.7, 19.6, 16.9, 14.0, 14.6, 15.1, 16.1, 16.8, 15.2, 17.0, 18.6])"
   ]
  },
  {
   "cell_type": "code",
   "execution_count": 3,
   "metadata": {},
   "outputs": [],
   "source": [
    "class LinearRegressionDataset(Dataset):\n",
    "    def __init__(self, X, y):\n",
    "        super().__init__()\n",
    "        self.X = X.reshape(-1, 1)\n",
    "        self.y = y.reshape(-1, 1)\n",
    "    \n",
    "    def __len__(self):\n",
    "        return self.X.shape[0]\n",
    "    \n",
    "    def __getitem__(self, index):\n",
    "        return self.X[index], self.y[index]"
   ]
  },
  {
   "cell_type": "code",
   "execution_count": 4,
   "metadata": {},
   "outputs": [],
   "source": [
    "class LinearRegression(nn.Module):\n",
    "    def __init__(self):\n",
    "        super().__init__()\n",
    "        # (1, 1) -> one node in input layer and one node in output layer\n",
    "        self.linear = nn.Linear(1, 1)\n",
    "    \n",
    "    def forward(self, x):\n",
    "        return self.linear(x)"
   ]
  },
  {
   "cell_type": "code",
   "execution_count": 5,
   "metadata": {},
   "outputs": [],
   "source": [
    "dataset = LinearRegressionDataset(X, y)\n",
    "batchsize = dataset.__len__()\n",
    "dataloader = DataLoader(dataset, batch_size=batchsize, shuffle=True)"
   ]
  },
  {
   "cell_type": "code",
   "execution_count": 6,
   "metadata": {},
   "outputs": [],
   "source": [
    "model = LinearRegression()\n",
    "criterion = nn.MSELoss()\n",
    "optimizer = torch.optim.SGD(model.parameters(), lr= 0.001)"
   ]
  },
  {
   "cell_type": "code",
   "execution_count": 7,
   "metadata": {},
   "outputs": [
    {
     "name": "stdout",
     "output_type": "stream",
     "text": [
      "parameters = w = 0.7350324988365173, b = 0.06834716349840164, loss = 39.031002044677734\n",
      "parameters = w = 0.8190670609474182, b = 0.07311207056045532, loss = 5.7638397216796875\n",
      "parameters = w = 0.8513245582580566, b = 0.07494915276765823, loss = 0.8618332147598267\n",
      "parameters = w = 0.863706648349762, b = 0.07566234469413757, loss = 0.13951049745082855\n",
      "parameters = w = 0.8684592247009277, b = 0.07594411820173264, loss = 0.033074043691158295\n",
      "parameters = w = 0.8702831268310547, b = 0.07606028020381927, loss = 0.017390359193086624\n",
      "parameters = w = 0.870982825756073, b = 0.07611287385225296, loss = 0.015079135075211525\n",
      "parameters = w = 0.8712509870529175, b = 0.07614106684923172, loss = 0.014738425612449646\n",
      "parameters = w = 0.8713534474372864, b = 0.07615988701581955, loss = 0.014688070863485336\n",
      "parameters = w = 0.8713923096656799, b = 0.07617510855197906, loss = 0.014680525287985802\n",
      "parameters = w = 0.8714067935943604, b = 0.07618895173072815, loss = 0.014679291285574436\n",
      "parameters = w = 0.871411919593811, b = 0.07620226591825485, loss = 0.014678909443318844\n",
      "parameters = w = 0.8714134097099304, b = 0.07621537148952484, loss = 0.014678738079965115\n",
      "parameters = w = 0.87141352891922, b = 0.07622840255498886, loss = 0.014678589068353176\n",
      "parameters = w = 0.8714131116867065, b = 0.0762414038181305, loss = 0.014678427949547768\n",
      "parameters = w = 0.8714125156402588, b = 0.07625439018011093, loss = 0.014678200706839561\n",
      "parameters = w = 0.8714118599891663, b = 0.07626737654209137, loss = 0.01467801071703434\n",
      "parameters = w = 0.871411144733429, b = 0.07628035545349121, loss = 0.014677900820970535\n",
      "parameters = w = 0.8714103698730469, b = 0.07629333436489105, loss = 0.014677684754133224\n",
      "parameters = w = 0.8714096546173096, b = 0.0763063132762909, loss = 0.014677577652037144\n",
      "parameters = w = 0.8714089393615723, b = 0.07631929218769073, loss = 0.014677396044135094\n",
      "parameters = w = 0.871408224105835, b = 0.07633227109909058, loss = 0.014677178114652634\n",
      "parameters = w = 0.8714074492454529, b = 0.07634525001049042, loss = 0.014677047729492188\n",
      "parameters = w = 0.8714067339897156, b = 0.07635822892189026, loss = 0.014676838181912899\n",
      "parameters = w = 0.8714060187339783, b = 0.0763712078332901, loss = 0.014676735736429691\n",
      "parameters = w = 0.8714052438735962, b = 0.07638417929410934, loss = 0.014676571823656559\n",
      "parameters = w = 0.8714045286178589, b = 0.07639715820550919, loss = 0.014676329679787159\n",
      "parameters = w = 0.8714038133621216, b = 0.07641013711690903, loss = 0.014676176942884922\n",
      "parameters = w = 0.8714030385017395, b = 0.07642310857772827, loss = 0.01467606145888567\n",
      "parameters = w = 0.8714023232460022, b = 0.07643608748912811, loss = 0.014675876125693321\n",
      "parameters = w = 0.8714016079902649, b = 0.07644905894994736, loss = 0.01467572245746851\n",
      "parameters = w = 0.8714008927345276, b = 0.0764620304107666, loss = 0.014675457030534744\n",
      "parameters = w = 0.8714001178741455, b = 0.07647500187158585, loss = 0.014675360172986984\n",
      "parameters = w = 0.8713994026184082, b = 0.07648797333240509, loss = 0.014675217680633068\n",
      "parameters = w = 0.8713986873626709, b = 0.07650094479322433, loss = 0.01467504445463419\n",
      "parameters = w = 0.8713979125022888, b = 0.07651391625404358, loss = 0.014674871228635311\n",
      "parameters = w = 0.8713971972465515, b = 0.07652688771486282, loss = 0.014674619771540165\n",
      "parameters = w = 0.8713964819908142, b = 0.07653985917568207, loss = 0.014674508012831211\n",
      "parameters = w = 0.8713957071304321, b = 0.07655283063650131, loss = 0.0146743543446064\n",
      "parameters = w = 0.8713949918746948, b = 0.07656580209732056, loss = 0.014674183912575245\n",
      "parameters = w = 0.8713942766189575, b = 0.0765787735581398, loss = 0.014674011617898941\n",
      "parameters = w = 0.8713935613632202, b = 0.07659174501895905, loss = 0.014673830009996891\n",
      "parameters = w = 0.8713927865028381, b = 0.07660471647977829, loss = 0.014673653990030289\n",
      "parameters = w = 0.8713920712471008, b = 0.07661768794059753, loss = 0.0146735068410635\n",
      "parameters = w = 0.8713913559913635, b = 0.07663065940141678, loss = 0.01467332523316145\n",
      "parameters = w = 0.8713905811309814, b = 0.07664362341165543, loss = 0.014673182740807533\n",
      "parameters = w = 0.8713898658752441, b = 0.07665658742189407, loss = 0.014673002995550632\n",
      "parameters = w = 0.8713891506195068, b = 0.07666955143213272, loss = 0.014672815799713135\n",
      "parameters = w = 0.8713883757591248, b = 0.07668251544237137, loss = 0.014672652818262577\n",
      "parameters = w = 0.8713876605033875, b = 0.07669547945261002, loss = 0.014672476798295975\n",
      "parameters = w = 0.8713868856430054, b = 0.07670844346284866, loss = 0.01467234268784523\n",
      "parameters = w = 0.8713861703872681, b = 0.07672140747308731, loss = 0.01467213872820139\n",
      "parameters = w = 0.8713854551315308, b = 0.07673437148332596, loss = 0.01467196736484766\n",
      "parameters = w = 0.8713847398757935, b = 0.0767473354935646, loss = 0.01467178389430046\n",
      "parameters = w = 0.8713840246200562, b = 0.07676029950380325, loss = 0.01467170100659132\n",
      "parameters = w = 0.8713832497596741, b = 0.0767732635140419, loss = 0.014671480283141136\n",
      "parameters = w = 0.8713825345039368, b = 0.07678622752428055, loss = 0.01467128936201334\n",
      "parameters = w = 0.8713818192481995, b = 0.0767991915345192, loss = 0.014671096578240395\n",
      "parameters = w = 0.8713810443878174, b = 0.07681214809417725, loss = 0.014670967124402523\n",
      "parameters = w = 0.8713803291320801, b = 0.0768251121044159, loss = 0.014670860953629017\n",
      "parameters = w = 0.8713796138763428, b = 0.07683807611465454, loss = 0.01467061135917902\n",
      "parameters = w = 0.8713788390159607, b = 0.07685103267431259, loss = 0.014670438133180141\n",
      "parameters = w = 0.8713781237602234, b = 0.07686399668455124, loss = 0.014670261181890965\n",
      "parameters = w = 0.8713774085044861, b = 0.07687695324420929, loss = 0.014670117758214474\n",
      "parameters = w = 0.871376633644104, b = 0.07688990980386734, loss = 0.014669998548924923\n",
      "parameters = w = 0.8713759183883667, b = 0.07690286636352539, loss = 0.01466975174844265\n",
      "parameters = w = 0.8713752031326294, b = 0.07691582292318344, loss = 0.01466963067650795\n",
      "parameters = w = 0.8713744878768921, b = 0.07692877948284149, loss = 0.014669477008283138\n",
      "parameters = w = 0.87137371301651, b = 0.07694173604249954, loss = 0.0146692655980587\n",
      "parameters = w = 0.8713729977607727, b = 0.07695469260215759, loss = 0.014669150114059448\n",
      "parameters = w = 0.8713722825050354, b = 0.07696764916181564, loss = 0.014668894000351429\n",
      "parameters = w = 0.8713715672492981, b = 0.0769806057214737, loss = 0.014668784104287624\n",
      "parameters = w = 0.871370792388916, b = 0.07699356228113174, loss = 0.014668617397546768\n",
      "parameters = w = 0.8713700771331787, b = 0.0770065188407898, loss = 0.014668426476418972\n",
      "parameters = w = 0.8713693022727966, b = 0.07701947540044785, loss = 0.014668300747871399\n",
      "parameters = w = 0.8713685870170593, b = 0.0770324319601059, loss = 0.014668047428131104\n",
      "parameters = w = 0.871367871761322, b = 0.07704538851976395, loss = 0.01466794591397047\n",
      "parameters = w = 0.8713671565055847, b = 0.0770583376288414, loss = 0.014667782932519913\n",
      "parameters = w = 0.8713663816452026, b = 0.07707128673791885, loss = 0.014667573384940624\n",
      "parameters = w = 0.8713656663894653, b = 0.07708423584699631, loss = 0.014667428098618984\n",
      "parameters = w = 0.871364951133728, b = 0.07709718495607376, loss = 0.014667271636426449\n",
      "parameters = w = 0.8713642358779907, b = 0.07711013406515121, loss = 0.014667084440588951\n",
      "parameters = w = 0.8713634610176086, b = 0.07712308317422867, loss = 0.01466692890971899\n",
      "parameters = w = 0.8713627457618713, b = 0.07713603228330612, loss = 0.014666739851236343\n",
      "parameters = w = 0.871362030506134, b = 0.07714898139238358, loss = 0.014666571281850338\n",
      "parameters = w = 0.8713613152503967, b = 0.07716193050146103, loss = 0.014666404575109482\n",
      "parameters = w = 0.8713605403900146, b = 0.07717487961053848, loss = 0.014666244387626648\n",
      "parameters = w = 0.8713598251342773, b = 0.07718782871961594, loss = 0.014666084200143814\n",
      "parameters = w = 0.87135910987854, b = 0.07720077782869339, loss = 0.014665961265563965\n",
      "parameters = w = 0.8713583946228027, b = 0.07721372693777084, loss = 0.014665708877146244\n",
      "parameters = w = 0.8713576793670654, b = 0.0772266760468483, loss = 0.014665571041405201\n",
      "parameters = w = 0.8713569045066833, b = 0.07723961770534515, loss = 0.014665377326309681\n",
      "parameters = w = 0.8713561296463013, b = 0.07725255936384201, loss = 0.01466524600982666\n",
      "parameters = w = 0.871355414390564, b = 0.07726550847291946, loss = 0.014665121212601662\n",
      "parameters = w = 0.8713546991348267, b = 0.07727845013141632, loss = 0.01466487254947424\n",
      "parameters = w = 0.8713539838790894, b = 0.07729139178991318, loss = 0.014664748683571815\n",
      "parameters = w = 0.8713532090187073, b = 0.07730433344841003, loss = 0.014664534479379654\n",
      "parameters = w = 0.87135249376297, b = 0.07731727510690689, loss = 0.014664430171251297\n",
      "parameters = w = 0.8713517785072327, b = 0.07733021676540375, loss = 0.014664266258478165\n",
      "parameters = w = 0.8713510632514954, b = 0.0773431584239006, loss = 0.014664029702544212\n"
     ]
    }
   ],
   "source": [
    "loss_list = []\n",
    "model.train()\n",
    "for epoch in range(100):\n",
    "    loss = 0.0\n",
    "    for input, target in dataloader:\n",
    "        optimizer.zero_grad()\n",
    "        output = model(input)\n",
    "        loss = criterion(output, target)\n",
    "        loss.backward()\n",
    "        optimizer.step()\n",
    "        print(f'parameters = w = {model.linear.weight.item()}, b = {model.linear.bias.item()}, loss = {loss.item()}')\n",
    "        loss = loss.detach().numpy()\n",
    "        loss_list.append(loss)"
   ]
  },
  {
   "cell_type": "code",
   "execution_count": 8,
   "metadata": {},
   "outputs": [
    {
     "data": {
      "image/png": "[encoded data removed]",
      "text/plain": [
       "<Figure size 640x480 with 1 Axes>"
      ]
     },
     "metadata": {},
     "output_type": "display_data"
    }
   ],
   "source": [
    "plt.plot(loss_list)\n",
    "plt.show()"
   ]
  },
  {
   "cell_type": "code",
   "execution_count": null,
   "metadata": {},
   "outputs": [],
   "source": []
  }
 ],
 "metadata": {
  "kernelspec": {
   "display_name": "venv",
   "language": "python",
   "name": "python3"
  },
  "language_info": {
   "codemirror_mode": {
    "name": "ipython",
    "version": 3
   },
   "file_extension": ".py",
   "mimetype": "text/x-python",
   "name": "python",
   "nbconvert_exporter": "python",
   "pygments_lexer": "ipython3",
   "version": "3.12.3"
  }
 },
 "nbformat": 4,
 "nbformat_minor": 2
}
