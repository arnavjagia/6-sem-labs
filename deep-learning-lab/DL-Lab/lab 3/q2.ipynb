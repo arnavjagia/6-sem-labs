{
 "cells": [
  {
   "cell_type": "code",
   "execution_count": 2,
   "metadata": {},
   "outputs": [],
   "source": [
    "import torch\n",
    "from matplotlib import pyplot as plt"
   ]
  },
  {
   "cell_type": "code",
   "execution_count": 4,
   "metadata": {},
   "outputs": [],
   "source": [
    "x = torch.tensor([2.0, 4.0])\n",
    "y = torch.tensor([20.0, 40.0])\n",
    "a = torch.tensor(0.001)\n",
    "w, b = torch.tensor(1.0, requires_grad= True), torch.tensor(1.0, requires_grad= True)\n",
    "n = 2"
   ]
  },
  {
   "cell_type": "code",
   "execution_count": 5,
   "metadata": {},
   "outputs": [
    {
     "name": "stdout",
     "output_type": "stream",
     "text": [
      "parameters - w = 1.1740000247955322, b = 1.0520000457763672, loss = 757.0\n",
      "parameters - w = 1.344208002090454, b = 1.1028521060943604, loss = 724.3797607421875\n"
     ]
    }
   ],
   "source": [
    "for epoch in range(2):\n",
    "    loss = 0.0\n",
    "    for i in range(n):\n",
    "        y_pred = (w * x[i]) + b\n",
    "        loss += (y[i] - y_pred) ** 2\n",
    "    loss /= 2\n",
    "    loss.backward()\n",
    "    with torch.no_grad():\n",
    "        w -= a * w.grad\n",
    "        b -= a * b.grad\n",
    "    print(f'parameters - w = {w.item()}, b = {b.item()}, loss = {loss.item()}')\n",
    "    w.grad.zero_()\n",
    "    b.grad.zero_()"
   ]
  },
  {
   "cell_type": "code",
   "execution_count": null,
   "metadata": {},
   "outputs": [],
   "source": []
  }
 ],
 "metadata": {
  "kernelspec": {
   "display_name": "venv",
   "language": "python",
   "name": "python3"
  },
  "language_info": {
   "codemirror_mode": {
    "name": "ipython",
    "version": 3
   },
   "file_extension": ".py",
   "mimetype": "text/x-python",
   "name": "python",
   "nbconvert_exporter": "python",
   "pygments_lexer": "ipython3",
   "version": "3.12.3"
  }
 },
 "nbformat": 4,
 "nbformat_minor": 2
}
