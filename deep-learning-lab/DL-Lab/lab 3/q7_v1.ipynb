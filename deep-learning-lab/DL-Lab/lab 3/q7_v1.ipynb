{
 "cells": [
  {
   "cell_type": "code",
   "execution_count": 18,
   "metadata": {},
   "outputs": [],
   "source": [
    "import torch\n",
    "from torch.utils.data import Dataset, DataLoader\n",
    "from torch import optim, nn\n",
    "from torch.nn import BCEWithLogitsLoss\n",
    "from matplotlib import pyplot as plt"
   ]
  },
  {
   "cell_type": "code",
   "execution_count": 19,
   "metadata": {},
   "outputs": [],
   "source": [
    "X = torch.tensor([1, 5, 10, 10, 25, 50, 70, 75, 100], dtype= torch.float32)\n",
    "y = torch.tensor([0, 0, 0, 0, 0, 1, 1, 1, 1], dtype= torch.float32)"
   ]
  },
  {
   "cell_type": "code",
   "execution_count": 20,
   "metadata": {},
   "outputs": [],
   "source": [
    "class LogisticDataloader(Dataset):\n",
    "    def __init__(self, X, y):\n",
    "        super().__init__()\n",
    "        self.X = X.reshape(-1, 1)\n",
    "        self.y = y.reshape(-1, 1)\n",
    "    \n",
    "    def __len__(self):\n",
    "        return self.X.shape[0]\n",
    "\n",
    "    def __getitem__(self, index):\n",
    "        return self.X[index], self.y[index]"
   ]
  },
  {
   "cell_type": "code",
   "execution_count": 21,
   "metadata": {},
   "outputs": [],
   "source": [
    "class LogisticRegression(nn.Module):\n",
    "    def __init__(self):\n",
    "        super().__init__()\n",
    "        # since we are planning to use BCEWithLogitsLoss, we do not need the sigmoid activation function\n",
    "        # the cost function will handle it itself\n",
    "        self.linear = nn.Linear(1, 1)\n",
    "    \n",
    "    def forward(self, x):\n",
    "        return self.linear(x)"
   ]
  },
  {
   "cell_type": "code",
   "execution_count": 22,
   "metadata": {},
   "outputs": [],
   "source": [
    "model = LogisticRegression()\n",
    "dataset = LogisticDataloader(X=X, y=y)\n",
    "dataloader = DataLoader(dataset=dataset, batch_size= dataset.__len__(), shuffle= True)\n",
    "criterion = BCEWithLogitsLoss()\n",
    "optimizer = optim.SGD(model.parameters(), lr= 0.001)"
   ]
  },
  {
   "cell_type": "code",
   "execution_count": 23,
   "metadata": {},
   "outputs": [
    {
     "name": "stdout",
     "output_type": "stream",
     "text": [
      "parameters - weights = 0.8877543807029724, bias = 0.19692325592041016, loss = 5.205472469329834\n",
      "parameters - weights = 0.8821213841438293, bias = 0.1963968575000763, loss = 5.173461437225342\n",
      "parameters - weights = 0.8764886856079102, bias = 0.19587062299251556, loss = 5.141454696655273\n",
      "parameters - weights = 0.8708562850952148, bias = 0.19534455239772797, loss = 5.1094512939453125\n",
      "parameters - weights = 0.8652241826057434, bias = 0.1948186457157135, loss = 5.077451705932617\n",
      "parameters - weights = 0.8595923781394958, bias = 0.19429290294647217, loss = 5.045454978942871\n",
      "parameters - weights = 0.8539609313011169, bias = 0.19376732409000397, loss = 5.013462543487549\n",
      "parameters - weights = 0.8483297824859619, bias = 0.1932419240474701, loss = 4.98147439956665\n",
      "parameters - weights = 0.8426989912986755, bias = 0.19271668791770935, loss = 4.949489116668701\n",
      "parameters - weights = 0.8370685577392578, bias = 0.19219163060188293, loss = 4.917508602142334\n",
      "parameters - weights = 0.831438422203064, bias = 0.19166673719882965, loss = 4.885532379150391\n",
      "parameters - weights = 0.8258086442947388, bias = 0.1911420226097107, loss = 4.853559494018555\n",
      "parameters - weights = 0.820179283618927, bias = 0.19061748683452606, loss = 4.821590900421143\n",
      "parameters - weights = 0.8145502805709839, bias = 0.19009312987327576, loss = 4.7896270751953125\n",
      "parameters - weights = 0.8089216351509094, bias = 0.18956895172595978, loss = 4.757667541503906\n",
      "parameters - weights = 0.8032934069633484, bias = 0.18904495239257812, loss = 4.725712299346924\n",
      "parameters - weights = 0.797665536403656, bias = 0.1885211318731308, loss = 4.693761825561523\n",
      "parameters - weights = 0.792038083076477, bias = 0.187997505068779, loss = 4.661815643310547\n",
      "parameters - weights = 0.7864110469818115, bias = 0.1874740570783615, loss = 4.629875183105469\n",
      "parameters - weights = 0.7807844281196594, bias = 0.18695080280303955, loss = 4.597938060760498\n",
      "parameters - weights = 0.7751582264900208, bias = 0.1864277422428131, loss = 4.566007137298584\n",
      "parameters - weights = 0.7695325016975403, bias = 0.1859048753976822, loss = 4.534080505371094\n",
      "parameters - weights = 0.7639071941375732, bias = 0.1853822022676468, loss = 4.502159595489502\n",
      "parameters - weights = 0.7582823634147644, bias = 0.1848597228527069, loss = 4.470243453979492\n",
      "parameters - weights = 0.7526580095291138, bias = 0.18433745205402374, loss = 4.438333511352539\n",
      "parameters - weights = 0.7470341324806213, bias = 0.1838153749704361, loss = 4.406428813934326\n",
      "parameters - weights = 0.7414107322692871, bias = 0.18329350650310516, loss = 4.3745293617248535\n",
      "parameters - weights = 0.7357878684997559, bias = 0.18277184665203094, loss = 4.3426361083984375\n",
      "parameters - weights = 0.7301655411720276, bias = 0.18225039541721344, loss = 4.310749053955078\n",
      "parameters - weights = 0.7245437502861023, bias = 0.18172915279865265, loss = 4.278867721557617\n",
      "parameters - weights = 0.71892249584198, bias = 0.18120811879634857, loss = 4.246993064880371\n",
      "parameters - weights = 0.7133017778396606, bias = 0.1806873083114624, loss = 4.215124607086182\n",
      "parameters - weights = 0.7076816558837891, bias = 0.18016672134399414, loss = 4.183263301849365\n",
      "parameters - weights = 0.7020621299743652, bias = 0.1796463429927826, loss = 4.151407241821289\n",
      "parameters - weights = 0.6964432001113892, bias = 0.17912620306015015, loss = 4.119559288024902\n",
      "parameters - weights = 0.6908248662948608, bias = 0.1786062866449356, loss = 4.0877180099487305\n",
      "parameters - weights = 0.685207188129425, bias = 0.17808659374713898, loss = 4.05588436126709\n",
      "parameters - weights = 0.6795901656150818, bias = 0.17756713926792145, loss = 4.024057388305664\n",
      "parameters - weights = 0.673973798751831, bias = 0.17704792320728302, loss = 3.992238759994507\n",
      "parameters - weights = 0.6683581471443176, bias = 0.1765289455652237, loss = 3.9604275226593018\n",
      "parameters - weights = 0.6627432107925415, bias = 0.17601020634174347, loss = 3.9286248683929443\n",
      "parameters - weights = 0.6571289896965027, bias = 0.17549172043800354, loss = 3.8968303203582764\n",
      "parameters - weights = 0.651515543460846, bias = 0.1749734878540039, loss = 3.865044593811035\n",
      "parameters - weights = 0.6459028124809265, bias = 0.17445550858974457, loss = 3.8332667350769043\n",
      "parameters - weights = 0.6402909159660339, bias = 0.17393778264522552, loss = 3.8014984130859375\n",
      "parameters - weights = 0.6346797943115234, bias = 0.17342032492160797, loss = 3.7697393894195557\n",
      "parameters - weights = 0.6290695667266846, bias = 0.1729031354188919, loss = 3.7379891872406006\n",
      "parameters - weights = 0.6234601736068726, bias = 0.17238621413707733, loss = 3.706249237060547\n",
      "parameters - weights = 0.6178516745567322, bias = 0.17186956107616425, loss = 3.6745195388793945\n",
      "parameters - weights = 0.6122440695762634, bias = 0.17135319113731384, loss = 3.6427998542785645\n",
      "parameters - weights = 0.6066374182701111, bias = 0.17083710432052612, loss = 3.611090660095215\n",
      "parameters - weights = 0.6010317206382751, bias = 0.1703213006258011, loss = 3.579392671585083\n",
      "parameters - weights = 0.5954270362854004, bias = 0.16980579495429993, loss = 3.54770565032959\n",
      "parameters - weights = 0.5898234248161316, bias = 0.16929058730602264, loss = 3.5160305500030518\n",
      "parameters - weights = 0.584220826625824, bias = 0.16877567768096924, loss = 3.484367847442627\n",
      "parameters - weights = 0.5786193609237671, bias = 0.1682610809803009, loss = 3.45271635055542\n",
      "parameters - weights = 0.5730190277099609, bias = 0.16774679720401764, loss = 3.42107892036438\n",
      "parameters - weights = 0.5674198269844055, bias = 0.16723282635211945, loss = 3.389453887939453\n",
      "parameters - weights = 0.5618218779563904, bias = 0.16671918332576752, loss = 3.357842206954956\n",
      "parameters - weights = 0.5562251806259155, bias = 0.16620586812496185, loss = 3.326244592666626\n",
      "parameters - weights = 0.550629734992981, bias = 0.16569289565086365, loss = 3.294661521911621\n",
      "parameters - weights = 0.5450356006622314, bias = 0.1651802659034729, loss = 3.2630932331085205\n",
      "parameters - weights = 0.5394428372383118, bias = 0.1646679788827896, loss = 3.2315402030944824\n",
      "parameters - weights = 0.5338515043258667, bias = 0.16415604948997498, loss = 3.200002908706665\n",
      "parameters - weights = 0.528261661529541, bias = 0.163644477725029, loss = 3.1684820652008057\n",
      "parameters - weights = 0.5226733088493347, bias = 0.16313327848911285, loss = 3.1369781494140625\n",
      "parameters - weights = 0.5170865058898926, bias = 0.16262246668338776, loss = 3.105491876602173\n",
      "parameters - weights = 0.5115013122558594, bias = 0.1621120423078537, loss = 3.0740230083465576\n",
      "parameters - weights = 0.5059177875518799, bias = 0.16160200536251068, loss = 3.0425729751586914\n",
      "parameters - weights = 0.5003359913825989, bias = 0.1610923707485199, loss = 3.0111420154571533\n",
      "parameters - weights = 0.4947560131549835, bias = 0.16058315336704254, loss = 2.979731321334839\n",
      "parameters - weights = 0.4891778826713562, bias = 0.1600743532180786, loss = 2.948340892791748\n",
      "parameters - weights = 0.4836016893386841, bias = 0.1595659852027893, loss = 2.9169719219207764\n",
      "parameters - weights = 0.47802746295928955, bias = 0.15905804932117462, loss = 2.885624885559082\n",
      "parameters - weights = 0.47245532274246216, bias = 0.15855056047439575, loss = 2.8543009757995605\n",
      "parameters - weights = 0.4668852984905243, bias = 0.1580435335636139, loss = 2.823000907897949\n",
      "parameters - weights = 0.4613174796104431, bias = 0.15753696858882904, loss = 2.791724681854248\n",
      "parameters - weights = 0.4557519555091858, bias = 0.1570308804512024, loss = 2.76047420501709\n",
      "parameters - weights = 0.4501888155937195, bias = 0.15652528405189514, loss = 2.7292497158050537\n",
      "parameters - weights = 0.44462814927101135, bias = 0.15602019429206848, loss = 2.698052406311035\n",
      "parameters - weights = 0.43907004594802856, bias = 0.1555156260728836, loss = 2.6668832302093506\n",
      "parameters - weights = 0.4335145950317383, bias = 0.15501157939434052, loss = 2.6357436180114746\n",
      "parameters - weights = 0.42796188592910767, bias = 0.1545080691576004, loss = 2.6046342849731445\n",
      "parameters - weights = 0.42241203784942627, bias = 0.15400511026382446, loss = 2.5735561847686768\n",
      "parameters - weights = 0.41686514019966125, bias = 0.15350273251533508, loss = 2.542510509490967\n",
      "parameters - weights = 0.41132134199142456, bias = 0.15300093591213226, loss = 2.5114991664886475\n",
      "parameters - weights = 0.40578073263168335, bias = 0.1524997353553772, loss = 2.480522632598877\n",
      "parameters - weights = 0.40024346113204956, bias = 0.15199914574623108, loss = 2.449582099914551\n",
      "parameters - weights = 0.39470961689949036, bias = 0.1514991819858551, loss = 2.41867995262146\n",
      "parameters - weights = 0.38917937874794006, bias = 0.15099985897541046, loss = 2.3878164291381836\n",
      "parameters - weights = 0.38365286588668823, bias = 0.15050120651721954, loss = 2.3569939136505127\n",
      "parameters - weights = 0.3781302273273468, bias = 0.15000322461128235, loss = 2.326214075088501\n",
      "parameters - weights = 0.3726116120815277, bias = 0.14950594305992126, loss = 2.2954776287078857\n",
      "parameters - weights = 0.3670971691608429, bias = 0.14900937676429749, loss = 2.264786720275879\n",
      "parameters - weights = 0.3615871071815491, bias = 0.1485135555267334, loss = 2.2341432571411133\n",
      "parameters - weights = 0.3560815751552582, bias = 0.1480184942483902, loss = 2.203549385070801\n",
      "parameters - weights = 0.35058075189590454, bias = 0.14752420783042908, loss = 2.173006296157837\n",
      "parameters - weights = 0.3450848162174225, bias = 0.14703072607517242, loss = 2.1425161361694336\n",
      "parameters - weights = 0.3395940065383911, bias = 0.14653807878494263, loss = 2.11208176612854\n",
      "parameters - weights = 0.33410850167274475, bias = 0.14604628086090088, loss = 2.081704616546631\n"
     ]
    }
   ],
   "source": [
    "loss_list = []\n",
    "model.train()\n",
    "for epoch in range(100):\n",
    "    loss = 0.0\n",
    "    for input, target in dataloader:\n",
    "        optimizer.zero_grad()\n",
    "        output = model(input)\n",
    "        loss = criterion(output, target)\n",
    "        loss.backward()\n",
    "        optimizer.step()\n",
    "        print(f'parameters - weights = {model.linear.weight.item()}, bias = {model.linear.bias.item()}, loss = {loss.item()}')\n",
    "        loss = loss.detach().numpy()\n",
    "        loss_list.append(loss)"
   ]
  },
  {
   "cell_type": "code",
   "execution_count": 24,
   "metadata": {},
   "outputs": [
    {
     "data": {
      "image/png": "[encoded data removed]",
      "text/plain": [
       "<Figure size 640x480 with 1 Axes>"
      ]
     },
     "metadata": {},
     "output_type": "display_data"
    }
   ],
   "source": [
    "plt.plot(loss_list)\n",
    "plt.show()"
   ]
  },
  {
   "cell_type": "code",
   "execution_count": null,
   "metadata": {},
   "outputs": [],
   "source": []
  }
 ],
 "metadata": {
  "kernelspec": {
   "display_name": "venv",
   "language": "python",
   "name": "python3"
  },
  "language_info": {
   "codemirror_mode": {
    "name": "ipython",
    "version": 3
   },
   "file_extension": ".py",
   "mimetype": "text/x-python",
   "name": "python",
   "nbconvert_exporter": "python",
   "pygments_lexer": "ipython3",
   "version": "3.12.3"
  }
 },
 "nbformat": 4,
 "nbformat_minor": 2
}
