{
 "cells": [
  {
   "cell_type": "code",
   "execution_count": 1,
   "metadata": {},
   "outputs": [],
   "source": [
    "import torch\n",
    "import torch.nn as nn\n",
    "# note\n",
    "import torch.optim as optim\n",
    "# note\n",
    "import torch.utils.data as data\n",
    "from matplotlib import pyplot as plt"
   ]
  },
  {
   "cell_type": "code",
   "execution_count": 2,
   "metadata": {},
   "outputs": [],
   "source": [
    "X = torch.tensor([5.0, 7.0, 12.0, 16.0, 20.0])\n",
    "y = torch.tensor([40.0, 120.0, 180.0, 210.0, 240.0])"
   ]
  },
  {
   "cell_type": "code",
   "execution_count": 3,
   "metadata": {},
   "outputs": [],
   "source": [
    "class LinearRegressionDataset(data.Dataset):\n",
    "    def __init__(self, X, y):\n",
    "        super().__init__()\n",
    "        self.X = X.reshape(-1, 1)\n",
    "        self.y = y.reshape(-1, 1)\n",
    "    \n",
    "    def __len__(self):\n",
    "        return len(self.X)\n",
    "    \n",
    "    def __getitem__(self, ind):\n",
    "        return self.X[ind], self.y[ind]"
   ]
  },
  {
   "cell_type": "code",
   "execution_count": 4,
   "metadata": {},
   "outputs": [],
   "source": [
    "class LinearRegression(nn.Module):\n",
    "    def __init__(self):\n",
    "        super().__init__()\n",
    "        self.w = nn.Parameter(torch.rand(1))\n",
    "        self.b = nn.Parameter(torch.rand(1))\n",
    "\n",
    "    def forward(self, x):\n",
    "        return (self.w * x) + self.b"
   ]
  },
  {
   "cell_type": "code",
   "execution_count": 5,
   "metadata": {},
   "outputs": [],
   "source": [
    "dataset = LinearRegressionDataset(X, y)\n",
    "# batch_size is kept 1 as data is small. So treating it as stochastic gradient descent only\n",
    "batch_size = dataset.__len__()\n",
    "dataloader = data.DataLoader(dataset, batch_size=batch_size, shuffle= True)"
   ]
  },
  {
   "cell_type": "code",
   "execution_count": 6,
   "metadata": {},
   "outputs": [],
   "source": [
    "model = LinearRegression()\n",
    "criterion = nn.MSELoss()\n",
    "optimizer = optim.SGD(model.parameters(), lr= 0.001)"
   ]
  },
  {
   "cell_type": "code",
   "execution_count": 8,
   "metadata": {},
   "outputs": [
    {
     "name": "stdout",
     "output_type": "stream",
     "text": [
      "parameters = w = 7.493597984313965, b = 0.968833863735199, loss = 12767.3828125\n",
      "parameters = w = 9.394584655761719, b = 1.103049874305725, loss = 5653.8408203125\n",
      "parameters = w = 10.627764701843262, b = 1.1913737058639526, loss = 2659.90234375\n",
      "parameters = w = 11.427704811096191, b = 1.249924659729004, loss = 1399.813720703125\n",
      "parameters = w = 11.94658088684082, b = 1.289159893989563, loss = 869.4639892578125\n",
      "parameters = w = 12.283116340637207, b = 1.3158636093139648, loss = 646.2440185546875\n",
      "parameters = w = 12.501358032226562, b = 1.3344371318817139, loss = 552.2885131835938\n",
      "parameters = w = 12.64285659790039, b = 1.3477356433868408, loss = 512.7372436523438\n",
      "parameters = w = 12.73456859588623, b = 1.3576116561889648, loss = 496.08367919921875\n",
      "parameters = w = 12.793980598449707, b = 1.3652667999267578, loss = 489.0672912597656\n",
      "parameters = w = 12.832438468933105, b = 1.3714807033538818, loss = 486.10675048828125\n",
      "parameters = w = 12.85730266571045, b = 1.3767591714859009, loss = 484.8536682128906\n",
      "parameters = w = 12.873347282409668, b = 1.3814303874969482, loss = 484.3187561035156\n",
      "parameters = w = 12.883670806884766, b = 1.385707139968872, loss = 484.0863342285156\n",
      "parameters = w = 12.89028263092041, b = 1.3897275924682617, loss = 483.9808044433594\n",
      "parameters = w = 12.894486427307129, b = 1.3935813903808594, loss = 483.92962646484375\n",
      "parameters = w = 12.897128105163574, b = 1.3973265886306763, loss = 483.90045166015625\n",
      "parameters = w = 12.89875602722168, b = 1.4010008573532104, loss = 483.88104248046875\n",
      "parameters = w = 12.899726867675781, b = 1.4046287536621094, loss = 483.86553955078125\n",
      "parameters = w = 12.90027141571045, b = 1.4082260131835938, loss = 483.8514709472656\n",
      "parameters = w = 12.90053939819336, b = 1.4118030071258545, loss = 483.83837890625\n",
      "parameters = w = 12.900627136230469, b = 1.4153664112091064, loss = 483.82574462890625\n",
      "parameters = w = 12.900599479675293, b = 1.418920636177063, loss = 483.81298828125\n",
      "parameters = w = 12.900495529174805, b = 1.4224684238433838, loss = 483.80029296875\n",
      "parameters = w = 12.90034294128418, b = 1.426011562347412, loss = 483.7877502441406\n",
      "parameters = w = 12.900158882141113, b = 1.429551362991333, loss = 483.775390625\n",
      "parameters = w = 12.899953842163086, b = 1.4330884218215942, loss = 483.7626037597656\n",
      "parameters = w = 12.899735450744629, b = 1.4366233348846436, loss = 483.75\n",
      "parameters = w = 12.899508476257324, b = 1.4401564598083496, loss = 483.73736572265625\n",
      "parameters = w = 12.899276733398438, b = 1.443687915802002, loss = 483.7249450683594\n",
      "parameters = w = 12.899041175842285, b = 1.4472179412841797, loss = 483.7123107910156\n",
      "parameters = w = 12.898802757263184, b = 1.4507465362548828, loss = 483.6997985839844\n",
      "parameters = w = 12.898563385009766, b = 1.4542738199234009, loss = 483.68731689453125\n",
      "parameters = w = 12.898323059082031, b = 1.4577997922897339, loss = 483.6748046875\n",
      "parameters = w = 12.89808177947998, b = 1.4613244533538818, loss = 483.66241455078125\n",
      "parameters = w = 12.89784049987793, b = 1.4648478031158447, loss = 483.6500549316406\n",
      "parameters = w = 12.897599220275879, b = 1.468369960784912, loss = 483.6376037597656\n",
      "parameters = w = 12.897356986999512, b = 1.4718908071517944, loss = 483.6251525878906\n",
      "parameters = w = 12.897115707397461, b = 1.4754104614257812, loss = 483.612548828125\n",
      "parameters = w = 12.89687442779541, b = 1.4789289236068726, loss = 483.6002502441406\n",
      "parameters = w = 12.896632194519043, b = 1.4824460744857788, loss = 483.58782958984375\n",
      "parameters = w = 12.896390914916992, b = 1.4859620332717896, loss = 483.57525634765625\n",
      "parameters = w = 12.896149635314941, b = 1.4894766807556152, loss = 483.56292724609375\n",
      "parameters = w = 12.89590835571289, b = 1.4929901361465454, loss = 483.55047607421875\n",
      "parameters = w = 12.89566707611084, b = 1.49650239944458, loss = 483.53765869140625\n",
      "parameters = w = 12.895425796508789, b = 1.5000133514404297, loss = 483.525390625\n",
      "parameters = w = 12.895184516906738, b = 1.5035231113433838, loss = 483.51287841796875\n",
      "parameters = w = 12.894943237304688, b = 1.5070316791534424, loss = 483.5006408691406\n",
      "parameters = w = 12.894701957702637, b = 1.510538935661316, loss = 483.48828125\n",
      "parameters = w = 12.894461631774902, b = 1.514045000076294, loss = 483.4759826660156\n",
      "parameters = w = 12.894221305847168, b = 1.5175498723983765, loss = 483.4637145996094\n",
      "parameters = w = 12.893980026245117, b = 1.521053433418274, loss = 483.45147705078125\n",
      "parameters = w = 12.893738746643066, b = 1.5245558023452759, loss = 483.43927001953125\n",
      "parameters = w = 12.893498420715332, b = 1.5280569791793823, loss = 483.42694091796875\n",
      "parameters = w = 12.893258094787598, b = 1.5315569639205933, loss = 483.41424560546875\n",
      "parameters = w = 12.893017768859863, b = 1.5350556373596191, loss = 483.4021911621094\n",
      "parameters = w = 12.892777442932129, b = 1.5385531187057495, loss = 483.38995361328125\n",
      "parameters = w = 12.892537117004395, b = 1.5420492887496948, loss = 483.37744140625\n",
      "parameters = w = 12.89229679107666, b = 1.5455442667007446, loss = 483.365234375\n",
      "parameters = w = 12.892056465148926, b = 1.549038052558899, loss = 483.35296630859375\n",
      "parameters = w = 12.891816139221191, b = 1.5525306463241577, loss = 483.3406677246094\n",
      "parameters = w = 12.891576766967773, b = 1.556022047996521, loss = 483.32843017578125\n",
      "parameters = w = 12.891337394714355, b = 1.5595121383666992, loss = 483.31658935546875\n",
      "parameters = w = 12.891098022460938, b = 1.563001036643982, loss = 483.3040466308594\n",
      "parameters = w = 12.89085865020752, b = 1.5664886236190796, loss = 483.2916564941406\n",
      "parameters = w = 12.890618324279785, b = 1.5699750185012817, loss = 483.2796325683594\n",
      "parameters = w = 12.890378952026367, b = 1.5734602212905884, loss = 483.2674255371094\n",
      "parameters = w = 12.89013957977295, b = 1.5769442319869995, loss = 483.25531005859375\n",
      "parameters = w = 12.889900207519531, b = 1.5804270505905151, loss = 483.24285888671875\n",
      "parameters = w = 12.889660835266113, b = 1.5839085578918457, loss = 483.2306213378906\n",
      "parameters = w = 12.889421463012695, b = 1.5873888731002808, loss = 483.2186584472656\n",
      "parameters = w = 12.889182090759277, b = 1.5908679962158203, loss = 483.2063903808594\n",
      "parameters = w = 12.888943672180176, b = 1.5943459272384644, loss = 483.1943359375\n",
      "parameters = w = 12.888704299926758, b = 1.5978225469589233, loss = 483.18218994140625\n",
      "parameters = w = 12.888465881347656, b = 1.6012979745864868, loss = 483.16973876953125\n",
      "parameters = w = 12.888227462768555, b = 1.6047722101211548, loss = 483.15771484375\n",
      "parameters = w = 12.887989044189453, b = 1.6082452535629272, loss = 483.1459045410156\n",
      "parameters = w = 12.887750625610352, b = 1.6117169857025146, loss = 483.1333923339844\n",
      "parameters = w = 12.88751220703125, b = 1.6151875257492065, loss = 483.1214294433594\n",
      "parameters = w = 12.887273788452148, b = 1.618656873703003, loss = 483.1092834472656\n",
      "parameters = w = 12.887035369873047, b = 1.6221250295639038, loss = 483.09747314453125\n",
      "parameters = w = 12.886796951293945, b = 1.6255918741226196, loss = 483.08538818359375\n",
      "parameters = w = 12.886558532714844, b = 1.62905752658844, loss = 483.0728454589844\n",
      "parameters = w = 12.886320114135742, b = 1.6325219869613647, loss = 483.06103515625\n",
      "parameters = w = 12.88608169555664, b = 1.635985255241394, loss = 483.04913330078125\n",
      "parameters = w = 12.885844230651855, b = 1.6394473314285278, loss = 483.0367736816406\n",
      "parameters = w = 12.88560676574707, b = 1.6429082155227661, loss = 483.02490234375\n",
      "parameters = w = 12.885368347167969, b = 1.6463677883148193, loss = 483.0126953125\n",
      "parameters = w = 12.885130882263184, b = 1.649826169013977, loss = 483.0008850097656\n",
      "parameters = w = 12.884893417358398, b = 1.6532833576202393, loss = 482.9889221191406\n",
      "parameters = w = 12.884655952453613, b = 1.656739354133606, loss = 482.97698974609375\n",
      "parameters = w = 12.884418487548828, b = 1.6601941585540771, loss = 482.96484375\n",
      "parameters = w = 12.884181022644043, b = 1.6636477708816528, loss = 482.95269775390625\n",
      "parameters = w = 12.883943557739258, b = 1.6671000719070435, loss = 482.9408264160156\n",
      "parameters = w = 12.883706092834473, b = 1.6705511808395386, loss = 482.9288635253906\n",
      "parameters = w = 12.883468627929688, b = 1.6740010976791382, loss = 482.9171447753906\n",
      "parameters = w = 12.883232116699219, b = 1.6774498224258423, loss = 482.90509033203125\n",
      "parameters = w = 12.88299560546875, b = 1.6808973550796509, loss = 482.8931579589844\n",
      "parameters = w = 12.882759094238281, b = 1.684343695640564, loss = 482.8812561035156\n",
      "parameters = w = 12.882522583007812, b = 1.6877888441085815, loss = 482.8692932128906\n"
     ]
    }
   ],
   "source": [
    "loss_list = []\n",
    "for epoch in range(100):\n",
    "    # setting model to training mode\n",
    "    model.train()\n",
    "    running_loss = 0.0\n",
    "    for input, target in dataloader:\n",
    "        optimizer.zero_grad()\n",
    "        output = model(input)\n",
    "        loss = criterion(output, target)\n",
    "        loss.backward()\n",
    "        optimizer.step()\n",
    "        running_loss += loss.item()\n",
    "    print(f'parameters = w = {model.w.item()}, b = {model.b.item()}, loss = {loss.item()}')\n",
    "    loss_list.append(running_loss)\n",
    "        "
   ]
  },
  {
   "cell_type": "code",
   "execution_count": 9,
   "metadata": {},
   "outputs": [
    {
     "data": {
      "image/png": "[encoded data removed]",
      "text/plain": [
       "<Figure size 640x480 with 1 Axes>"
      ]
     },
     "metadata": {},
     "output_type": "display_data"
    }
   ],
   "source": [
    "plt.plot(loss_list)\n",
    "plt.show()"
   ]
  },
  {
   "cell_type": "code",
   "execution_count": null,
   "metadata": {},
   "outputs": [],
   "source": []
  }
 ],
 "metadata": {
  "kernelspec": {
   "display_name": "venv",
   "language": "python",
   "name": "python3"
  },
  "language_info": {
   "codemirror_mode": {
    "name": "ipython",
    "version": 3
   },
   "file_extension": ".py",
   "mimetype": "text/x-python",
   "name": "python",
   "nbconvert_exporter": "python",
   "pygments_lexer": "ipython3",
   "version": "3.12.3"
  }
 },
 "nbformat": 4,
 "nbformat_minor": 2
}
