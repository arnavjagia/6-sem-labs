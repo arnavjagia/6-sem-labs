{
 "cells": [
  {
   "cell_type": "code",
   "execution_count": 2,
   "metadata": {},
   "outputs": [],
   "source": [
    "import torch\n",
    "from matplotlib import pyplot as plt"
   ]
  },
  {
   "cell_type": "code",
   "execution_count": 3,
   "metadata": {},
   "outputs": [],
   "source": [
    "a = torch.tensor(0.001)"
   ]
  },
  {
   "cell_type": "code",
   "execution_count": 21,
   "metadata": {},
   "outputs": [],
   "source": [
    "class LinearRegression:\n",
    "    def __init__(self):\n",
    "        self.w = torch.tensor(1.0, requires_grad= True)\n",
    "        self.b = torch.tensor(1.0, requires_grad= True)\n",
    "    \n",
    "    def forward(self, x):\n",
    "        return (self.w * x) + self.b\n",
    "    \n",
    "    def loss(self, y_pred, y):\n",
    "        return (y - y_pred) ** 2\n",
    "    \n",
    "    def update(self):\n",
    "        self.w -= a * self.w.grad\n",
    "        self.b -= a * self.b.grad\n",
    "        return\n",
    "\n",
    "    def reset_grad(self):\n",
    "        self.w.grad.zero_()\n",
    "        self.b.grad.zero_()"
   ]
  },
  {
   "cell_type": "code",
   "execution_count": 22,
   "metadata": {},
   "outputs": [],
   "source": [
    "x = torch.tensor([5.0, 7.0, 12.0, 16.0, 20.0])\n",
    "y = torch.tensor([40.0, 120.0, 180.0, 210.0, 240.0])\n",
    "n = len(x)"
   ]
  },
  {
   "cell_type": "code",
   "execution_count": 23,
   "metadata": {},
   "outputs": [
    {
     "name": "stdout",
     "output_type": "stream",
     "text": [
      "parameters - w = 5.170400619506836, b = 1.2899999618530273, loss = 25359.80078125\n",
      "parameters - w = 7.875868797302246, b = 1.4793304204940796, loss = 10952.734375\n",
      "parameters - w = 9.630961418151855, b = 1.6033508777618408, loss = 4889.1201171875\n",
      "parameters - w = 10.76949691772461, b = 1.6850011348724365, loss = 2337.07373046875\n",
      "parameters - w = 11.508041381835938, b = 1.7391631603240967, loss = 1262.96875\n",
      "parameters - w = 11.987090110778809, b = 1.7754918336868286, loss = 810.8944702148438\n",
      "parameters - w = 12.297791481018066, b = 1.8002506494522095, loss = 620.6205444335938\n",
      "parameters - w = 12.49927806854248, b = 1.8175032138824463, loss = 540.5318603515625\n",
      "parameters - w = 12.629910469055176, b = 1.829885482788086, loss = 506.8174743652344\n",
      "parameters - w = 12.714576721191406, b = 1.839107871055603, loss = 492.6212463378906\n",
      "parameters - w = 12.769421577453613, b = 1.8462798595428467, loss = 486.63970947265625\n",
      "parameters - w = 12.80492115020752, b = 1.8521212339401245, loss = 484.11553955078125\n",
      "parameters - w = 12.827869415283203, b = 1.857098937034607, loss = 483.04638671875\n",
      "parameters - w = 12.842676162719727, b = 1.8615158796310425, loss = 482.589599609375\n",
      "parameters - w = 12.852200508117676, b = 1.8655686378479004, loss = 482.39093017578125\n",
      "parameters - w = 12.858297348022461, b = 1.8693846464157104, loss = 482.3006896972656\n",
      "parameters - w = 12.862171173095703, b = 1.8730467557907104, loss = 482.25628662109375\n",
      "parameters - w = 12.864603042602539, b = 1.8766086101531982, loss = 482.23046875\n",
      "parameters - w = 12.86609935760498, b = 1.880104899406433, loss = 482.2132873535156\n",
      "parameters - w = 12.866988182067871, b = 1.8835582733154297, loss = 482.1993103027344\n",
      "parameters - w = 12.867484092712402, b = 1.8869833946228027, loss = 482.1866760253906\n",
      "parameters - w = 12.867724418640137, b = 1.8903898000717163, loss = 482.17510986328125\n",
      "parameters - w = 12.867798805236816, b = 1.893783688545227, loss = 482.16326904296875\n",
      "parameters - w = 12.867765426635742, b = 1.8971689939498901, loss = 482.15203857421875\n",
      "parameters - w = 12.86766242980957, b = 1.9005483388900757, loss = 482.1404724121094\n",
      "parameters - w = 12.867514610290527, b = 1.9039233922958374, loss = 482.1288146972656\n",
      "parameters - w = 12.867337226867676, b = 1.9072952270507812, loss = 482.11749267578125\n",
      "parameters - w = 12.867140769958496, b = 1.9106645584106445, loss = 482.10614013671875\n",
      "parameters - w = 12.86693286895752, b = 1.9140318632125854, loss = 482.0948791503906\n",
      "parameters - w = 12.866716384887695, b = 1.917397379875183, loss = 482.0833435058594\n",
      "parameters - w = 12.866495132446289, b = 1.9207613468170166, loss = 482.07171630859375\n",
      "parameters - w = 12.866270065307617, b = 1.9241238832473755, loss = 482.06060791015625\n",
      "parameters - w = 12.866043090820312, b = 1.9274851083755493, loss = 482.0496520996094\n",
      "parameters - w = 12.865815162658691, b = 1.9308451414108276, loss = 482.0379943847656\n",
      "parameters - w = 12.865585327148438, b = 1.934203863143921, loss = 482.02667236328125\n",
      "parameters - w = 12.865355491638184, b = 1.9375613927841187, loss = 482.01531982421875\n",
      "parameters - w = 12.86512565612793, b = 1.940917730331421, loss = 482.00384521484375\n",
      "parameters - w = 12.864895820617676, b = 1.9442728757858276, loss = 481.99285888671875\n",
      "parameters - w = 12.864665985107422, b = 1.9476268291473389, loss = 481.9812927246094\n",
      "parameters - w = 12.864435195922852, b = 1.9509795904159546, loss = 481.97027587890625\n",
      "parameters - w = 12.864205360412598, b = 1.9543311595916748, loss = 481.958740234375\n",
      "parameters - w = 12.863974571228027, b = 1.9576815366744995, loss = 481.9476623535156\n",
      "parameters - w = 12.863744735717773, b = 1.9610308408737183, loss = 481.93603515625\n",
      "parameters - w = 12.86351490020752, b = 1.9643789529800415, loss = 481.9251403808594\n",
      "parameters - w = 12.863285064697266, b = 1.9677258729934692, loss = 481.91363525390625\n",
      "parameters - w = 12.863055229187012, b = 1.9710716009140015, loss = 481.902099609375\n",
      "parameters - w = 12.862825393676758, b = 1.9744161367416382, loss = 481.8912048339844\n",
      "parameters - w = 12.862595558166504, b = 1.9777594804763794, loss = 481.8798828125\n",
      "parameters - w = 12.86236572265625, b = 1.981101632118225, loss = 481.86883544921875\n",
      "parameters - w = 12.862135887145996, b = 1.9844427108764648, loss = 481.85760498046875\n",
      "parameters - w = 12.861907005310059, b = 1.987782597541809, loss = 481.84625244140625\n",
      "parameters - w = 12.861677169799805, b = 1.9911212921142578, loss = 481.8351135253906\n",
      "parameters - w = 12.861448287963867, b = 1.994458794593811, loss = 481.8240661621094\n",
      "parameters - w = 12.86121940612793, b = 1.9977951049804688, loss = 481.812744140625\n",
      "parameters - w = 12.860989570617676, b = 2.0011303424835205, loss = 481.8016662597656\n",
      "parameters - w = 12.860760688781738, b = 2.0044643878936768, loss = 481.790283203125\n",
      "parameters - w = 12.8605318069458, b = 2.0077972412109375, loss = 481.77899169921875\n",
      "parameters - w = 12.860302925109863, b = 2.0111289024353027, loss = 481.76806640625\n",
      "parameters - w = 12.860074043273926, b = 2.0144593715667725, loss = 481.7569274902344\n",
      "parameters - w = 12.859845161437988, b = 2.0177886486053467, loss = 481.74566650390625\n",
      "parameters - w = 12.85961627960205, b = 2.0211167335510254, loss = 481.7345275878906\n",
      "parameters - w = 12.859387397766113, b = 2.0244436264038086, loss = 481.723388671875\n",
      "parameters - w = 12.859158515930176, b = 2.0277693271636963, loss = 481.7123107910156\n",
      "parameters - w = 12.858930587768555, b = 2.0310940742492676, loss = 481.701171875\n",
      "parameters - w = 12.858701705932617, b = 2.0344176292419434, loss = 481.6902770996094\n",
      "parameters - w = 12.858473777770996, b = 2.0377399921417236, loss = 481.67919921875\n",
      "parameters - w = 12.858245849609375, b = 2.0410611629486084, loss = 481.66802978515625\n",
      "parameters - w = 12.858017921447754, b = 2.0443811416625977, loss = 481.65673828125\n",
      "parameters - w = 12.857789993286133, b = 2.0476999282836914, loss = 481.64569091796875\n",
      "parameters - w = 12.857562065124512, b = 2.0510175228118896, loss = 481.63458251953125\n",
      "parameters - w = 12.85733413696289, b = 2.0543339252471924, loss = 481.6238708496094\n",
      "parameters - w = 12.85710620880127, b = 2.0576491355895996, loss = 481.6123046875\n",
      "parameters - w = 12.856878280639648, b = 2.0609633922576904, loss = 481.6015625\n",
      "parameters - w = 12.856650352478027, b = 2.0642764568328857, loss = 481.5908203125\n",
      "parameters - w = 12.856423377990723, b = 2.0675883293151855, loss = 481.5794372558594\n",
      "parameters - w = 12.856195449829102, b = 2.07089900970459, loss = 481.5686950683594\n",
      "parameters - w = 12.855968475341797, b = 2.0742084980010986, loss = 481.55731201171875\n",
      "parameters - w = 12.855740547180176, b = 2.077516794204712, loss = 481.54681396484375\n",
      "parameters - w = 12.855513572692871, b = 2.0808238983154297, loss = 481.53546142578125\n",
      "parameters - w = 12.855286598205566, b = 2.084130048751831, loss = 481.5243225097656\n",
      "parameters - w = 12.855058670043945, b = 2.087435007095337, loss = 481.51361083984375\n",
      "parameters - w = 12.85483169555664, b = 2.0907387733459473, loss = 481.50238037109375\n",
      "parameters - w = 12.854604721069336, b = 2.094041347503662, loss = 481.4912109375\n",
      "parameters - w = 12.854377746582031, b = 2.0973427295684814, loss = 481.48095703125\n",
      "parameters - w = 12.854150772094727, b = 2.1006429195404053, loss = 481.4698181152344\n",
      "parameters - w = 12.853923797607422, b = 2.1039419174194336, loss = 481.4585876464844\n",
      "parameters - w = 12.853696823120117, b = 2.1072399616241455, loss = 481.44805908203125\n",
      "parameters - w = 12.853470802307129, b = 2.110536813735962, loss = 481.43701171875\n",
      "parameters - w = 12.85324478149414, b = 2.113832473754883, loss = 481.426025390625\n",
      "parameters - w = 12.853018760681152, b = 2.117126941680908, loss = 481.4148864746094\n",
      "parameters - w = 12.852792739868164, b = 2.120420217514038, loss = 481.40411376953125\n",
      "parameters - w = 12.852566719055176, b = 2.1237123012542725, loss = 481.39312744140625\n",
      "parameters - w = 12.852339744567871, b = 2.1270031929016113, loss = 481.38232421875\n",
      "parameters - w = 12.852113723754883, b = 2.130293130874634, loss = 481.37158203125\n",
      "parameters - w = 12.851887702941895, b = 2.1335818767547607, loss = 481.36029052734375\n",
      "parameters - w = 12.851661682128906, b = 2.136869430541992, loss = 481.3497619628906\n",
      "parameters - w = 12.851435661315918, b = 2.140155792236328, loss = 481.3388671875\n",
      "parameters - w = 12.85120964050293, b = 2.1434409618377686, loss = 481.32830810546875\n",
      "parameters - w = 12.850984573364258, b = 2.1467249393463135, loss = 481.3172302246094\n",
      "parameters - w = 12.85075855255127, b = 2.150007963180542, loss = 481.30621337890625\n"
     ]
    }
   ],
   "source": [
    "model = LinearRegression()\n",
    "loss_list = []\n",
    "for epoch in range(100):\n",
    "    loss = 0.0\n",
    "    for i in range(n):\n",
    "        y_pred = model.forward(x[i])\n",
    "        loss += model.loss(y_pred, y[i])\n",
    "    loss /= n\n",
    "    loss.backward()\n",
    "    with torch.no_grad():\n",
    "        model.update()\n",
    "    print(f'parameters - w = {model.w.item()}, b = {model.b.item()}, loss = {loss.item()}')\n",
    "    model.reset_grad()\n",
    "    loss_list.append(loss.detach().numpy())"
   ]
  },
  {
   "cell_type": "code",
   "execution_count": 24,
   "metadata": {},
   "outputs": [
    {
     "data": {
      "image/png": "[encoded data removed]",
      "text/plain": [
       "<Figure size 640x480 with 1 Axes>"
      ]
     },
     "metadata": {},
     "output_type": "display_data"
    }
   ],
   "source": [
    "plt.plot(loss_list)\n",
    "plt.show()"
   ]
  },
  {
   "cell_type": "code",
   "execution_count": null,
   "metadata": {},
   "outputs": [],
   "source": []
  }
 ],
 "metadata": {
  "kernelspec": {
   "display_name": "venv",
   "language": "python",
   "name": "python3"
  },
  "language_info": {
   "codemirror_mode": {
    "name": "ipython",
    "version": 3
   },
   "file_extension": ".py",
   "mimetype": "text/x-python",
   "name": "python",
   "nbconvert_exporter": "python",
   "pygments_lexer": "ipython3",
   "version": "3.12.3"
  }
 },
 "nbformat": 4,
 "nbformat_minor": 2
}
