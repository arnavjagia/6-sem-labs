{
 "cells": [
  {
   "cell_type": "code",
   "execution_count": 12,
   "metadata": {},
   "outputs": [],
   "source": [
    "import torch\n",
    "import torch.nn.functional as F"
   ]
  },
  {
   "cell_type": "code",
   "execution_count": 13,
   "metadata": {},
   "outputs": [
    {
     "name": "stdout",
     "output_type": "stream",
     "text": [
      "tensor([[0.0998, 0.7294, 0.9400, 0.6315, 0.6432, 0.2614],\n",
      "        [0.9656, 0.7578, 0.4914, 0.4925, 0.8873, 0.5478],\n",
      "        [0.6355, 0.5854, 0.0901, 0.5448, 0.2288, 0.2803],\n",
      "        [0.6552, 0.2118, 0.6873, 0.2612, 0.2723, 0.0697],\n",
      "        [0.3851, 0.3008, 0.8263, 0.6079, 0.8273, 0.6758],\n",
      "        [0.0847, 0.5733, 0.2344, 0.3559, 0.4430, 0.5596]])\n"
     ]
    }
   ],
   "source": [
    "img = torch.rand(6, 6)\n",
    "print(img)"
   ]
  },
  {
   "cell_type": "code",
   "execution_count": 14,
   "metadata": {},
   "outputs": [
    {
     "name": "stdout",
     "output_type": "stream",
     "text": [
      "torch.Size([1, 1, 6, 6])\n"
     ]
    }
   ],
   "source": [
    "img = img.unsqueeze(dim = 0).unsqueeze(dim = 0)\n",
    "print(img.shape)"
   ]
  },
  {
   "cell_type": "code",
   "execution_count": 15,
   "metadata": {},
   "outputs": [],
   "source": [
    "kernel = torch.ones(3, 3)\n",
    "kernel = kernel.unsqueeze(dim =0).unsqueeze(dim = 0)"
   ]
  },
  {
   "cell_type": "code",
   "execution_count": 16,
   "metadata": {},
   "outputs": [
    {
     "name": "stdout",
     "output_type": "stream",
     "text": [
      "tensor([[[[5.2950, 5.2628, 4.9496, 4.5176],\n",
      "          [5.0801, 4.1223, 3.9558, 3.5847],\n",
      "          [4.3774, 4.1156, 4.3460, 3.7681],\n",
      "          [3.9588, 4.0589, 4.5157, 4.0728]]]])\n"
     ]
    }
   ],
   "source": [
    "output = F.conv2d(img, kernel, stride= 1, padding= 0)\n",
    "print(output)"
   ]
  },
  {
   "cell_type": "markdown",
   "metadata": {},
   "source": []
  },
  {
   "cell_type": "code",
   "execution_count": 17,
   "metadata": {},
   "outputs": [
    {
     "name": "stdout",
     "output_type": "stream",
     "text": [
      "torch.Size([1, 1, 4, 4])\n"
     ]
    }
   ],
   "source": [
    "print(output.shape)"
   ]
  },
  {
   "cell_type": "code",
   "execution_count": 21,
   "metadata": {},
   "outputs": [
    {
     "name": "stdout",
     "output_type": "stream",
     "text": [
      "torch.Size([1, 1, 3, 3])\n",
      "9\n"
     ]
    }
   ],
   "source": [
    "parameters = 1\n",
    "print(kernel.shape)\n",
    "for x in kernel.shape:\n",
    "    parameters *= x\n",
    "print(parameters)"
   ]
  },
  {
   "cell_type": "code",
   "execution_count": null,
   "metadata": {},
   "outputs": [],
   "source": []
  }
 ],
 "metadata": {
  "kernelspec": {
   "display_name": "venv",
   "language": "python",
   "name": "python3"
  },
  "language_info": {
   "codemirror_mode": {
    "name": "ipython",
    "version": 3
   },
   "file_extension": ".py",
   "mimetype": "text/x-python",
   "name": "python",
   "nbconvert_exporter": "python",
   "pygments_lexer": "ipython3",
   "version": "3.12.3"
  }
 },
 "nbformat": 4,
 "nbformat_minor": 2
}
