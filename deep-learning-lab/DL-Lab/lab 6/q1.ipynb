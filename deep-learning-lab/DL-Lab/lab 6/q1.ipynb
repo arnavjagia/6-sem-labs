{
 "cells": [
  {
   "cell_type": "code",
   "execution_count": 1,
   "metadata": {},
   "outputs": [],
   "source": [
    "import torch\n",
    "import matplotlib\n",
    "from torch.utils.data import DataLoader\n",
    "from torchvision import datasets, transforms\n",
    "from sklearn.metrics import confusion_matrix, accuracy_score\n",
    "from torch import nn"
   ]
  },
  {
   "cell_type": "code",
   "execution_count": 2,
   "metadata": {},
   "outputs": [
    {
     "name": "stderr",
     "output_type": "stream",
     "text": [
      "100.0%\n",
      "100.0%\n",
      "100.0%\n",
      "100.0%\n"
     ]
    }
   ],
   "source": [
    "transforms = transforms.Compose([transforms.ToTensor(), transforms.Normalize((0.5, ), (0.5, ))])\n",
    "test = datasets.FashionMNIST('.', train= False, transform= transforms, download= True)\n",
    "test_loader = DataLoader(test, batch_size= 64, shuffle= True)"
   ]
  },
  {
   "cell_type": "code",
   "execution_count": 3,
   "metadata": {},
   "outputs": [],
   "source": [
    "class CNN(nn.Module):\n",
    "    def __init__(self):\n",
    "        super().__init__()\n",
    "        self.net = nn.Sequential(nn.Conv2d(1, 32, kernel_size=3),\n",
    "                                 nn.ReLU(),\n",
    "                                 nn.MaxPool2d((2, 2), stride=2),\n",
    "                                 nn.Conv2d(32, 64, kernel_size=3),\n",
    "                                 nn.ReLU(),\n",
    "                                 nn.MaxPool2d((2, 2), stride=2),\n",
    "                                 nn.Conv2d(64, 32, kernel_size= 3),\n",
    "                                 nn.ReLU(),\n",
    "                                 nn.MaxPool2d((2, 2), stride=2))\n",
    "        self.classify_head = nn.Sequential(nn.Linear(32, 20, bias=True),\n",
    "                                           nn.Linear(20, 10, bias= True))\n",
    "    def forward(self, x):\n",
    "        return self.classify_head(self.net(x).reshape(-1, 32))"
   ]
  },
  {
   "cell_type": "code",
   "execution_count": 7,
   "metadata": {},
   "outputs": [
    {
     "name": "stdout",
     "output_type": "stream",
     "text": [
      "net.0.weight torch.Size([32, 1, 3, 3])\n",
      "net.0.bias torch.Size([32])\n",
      "net.3.weight torch.Size([64, 32, 3, 3])\n",
      "net.3.bias torch.Size([64])\n",
      "net.6.weight torch.Size([32, 64, 3, 3])\n",
      "net.6.bias torch.Size([32])\n",
      "classify_head.0.weight torch.Size([20, 32])\n",
      "classify_head.0.bias torch.Size([20])\n",
      "classify_head.1.weight torch.Size([10, 20])\n",
      "classify_head.1.bias torch.Size([10])\n"
     ]
    }
   ],
   "source": [
    "model = CNN()\n",
    "torch.serialization.add_safe_globals([CNN, nn.Sequential, nn.Conv2d, nn.ReLU, nn.MaxPool2d, nn.Linear])\n",
    "model = torch.load('./ModelFiles/model.pt')\n",
    "model.to('cuda')\n",
    "for x in model.state_dict().keys():\n",
    "    print(f'{x} {model.state_dict()[x].size()}')"
   ]
  },
  {
   "cell_type": "code",
   "execution_count": 11,
   "metadata": {},
   "outputs": [
    {
     "name": "stdout",
     "output_type": "stream",
     "text": [
      "0.0724\n"
     ]
    }
   ],
   "source": [
    "all_preds, all_labels = [], []\n",
    "model.eval()\n",
    "with torch.no_grad():\n",
    "    for input, target in test_loader:\n",
    "        input, target = input.to('cuda'), target.to('cuda')\n",
    "        output = model(input)\n",
    "        val, index = torch.max(output, dim= 1)\n",
    "        all_preds.extend(index.to('cpu'))\n",
    "        all_labels.extend(target.to('cpu'))\n",
    "print(accuracy_score(all_preds, all_labels))"
   ]
  },
  {
   "cell_type": "code",
   "execution_count": null,
   "metadata": {},
   "outputs": [],
   "source": []
  }
 ],
 "metadata": {
  "kernelspec": {
   "display_name": "venv",
   "language": "python",
   "name": "python3"
  },
  "language_info": {
   "codemirror_mode": {
    "name": "ipython",
    "version": 3
   },
   "file_extension": ".py",
   "mimetype": "text/x-python",
   "name": "python",
   "nbconvert_exporter": "python",
   "pygments_lexer": "ipython3",
   "version": "3.12.3"
  }
 },
 "nbformat": 4,
 "nbformat_minor": 2
}
