{
 "cells": [
  {
   "cell_type": "code",
   "execution_count": null,
   "id": "fc569565-8dfc-42b3-86f2-cf594403380e",
   "metadata": {},
   "outputs": [],
   "source": []
  }
 ],
 "metadata": {
  "kernelspec": {
   "display_name": "",
   "name": ""
  },
  "language_info": {
   "name": ""
  }
 },
 "nbformat": 4,
 "nbformat_minor": 5
}
